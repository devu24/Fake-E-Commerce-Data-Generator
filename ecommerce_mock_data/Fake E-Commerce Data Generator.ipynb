{
 "cells": [
  {
   "cell_type": "code",
   "execution_count": 11,
   "id": "c2bc93eb",
   "metadata": {},
   "outputs": [
    {
     "name": "stdout",
     "output_type": "stream",
     "text": [
      "Requirement already satisfied: faker in c:\\users\\rahul\\anaconda3\\lib\\site-packages (26.0.0)\n",
      "Requirement already satisfied: python-dateutil>=2.4 in c:\\users\\rahul\\anaconda3\\lib\\site-packages (from faker) (2.8.2)\n",
      "Requirement already satisfied: six>=1.5 in c:\\users\\rahul\\anaconda3\\lib\\site-packages (from python-dateutil>=2.4->faker) (1.16.0)\n"
     ]
    }
   ],
   "source": [
    "!pip install faker"
   ]
  },
  {
   "cell_type": "code",
   "execution_count": 12,
   "id": "7194c9c1",
   "metadata": {},
   "outputs": [],
   "source": [
    "from faker import Faker\n",
    "import pandas as pd\n",
    "import matplotlib.pyplot as plt\n"
   ]
  },
  {
   "cell_type": "code",
   "execution_count": 13,
   "id": "b1ec504b",
   "metadata": {},
   "outputs": [
    {
     "data": {
      "text/html": [
       "<div>\n",
       "<style scoped>\n",
       "    .dataframe tbody tr th:only-of-type {\n",
       "        vertical-align: middle;\n",
       "    }\n",
       "\n",
       "    .dataframe tbody tr th {\n",
       "        vertical-align: top;\n",
       "    }\n",
       "\n",
       "    .dataframe thead th {\n",
       "        text-align: right;\n",
       "    }\n",
       "</style>\n",
       "<table border=\"1\" class=\"dataframe\">\n",
       "  <thead>\n",
       "    <tr style=\"text-align: right;\">\n",
       "      <th></th>\n",
       "      <th>user_id</th>\n",
       "      <th>name</th>\n",
       "      <th>address</th>\n",
       "      <th>email</th>\n",
       "      <th>phone_number</th>\n",
       "      <th>date_of_birth</th>\n",
       "      <th>signup_date</th>\n",
       "    </tr>\n",
       "  </thead>\n",
       "  <tbody>\n",
       "    <tr>\n",
       "      <th>0</th>\n",
       "      <td>bad0f399-b936-417c-a238-56079f19b88d</td>\n",
       "      <td>Ashley Mcintosh</td>\n",
       "      <td>623 Lisa Fields Suite 884\\nEast Jasonmouth, NV...</td>\n",
       "      <td>elizabeth01@example.net</td>\n",
       "      <td>(889)984-8561x885</td>\n",
       "      <td>1997-08-29</td>\n",
       "      <td>2022-05-04</td>\n",
       "    </tr>\n",
       "    <tr>\n",
       "      <th>1</th>\n",
       "      <td>716fba64-a05b-4ebd-97f9-636cdbb44be0</td>\n",
       "      <td>Kathryn Scott</td>\n",
       "      <td>721 Lindsey Curve Suite 968\\nSouth Michael, GU...</td>\n",
       "      <td>johndixon@example.org</td>\n",
       "      <td>001-585-930-5563x05110</td>\n",
       "      <td>1958-11-11</td>\n",
       "      <td>2022-03-18</td>\n",
       "    </tr>\n",
       "    <tr>\n",
       "      <th>2</th>\n",
       "      <td>1deebb01-ff6f-44b7-9857-3681a2097bf0</td>\n",
       "      <td>Julia Hernandez</td>\n",
       "      <td>178 Weaver Valley\\nCoreychester, IL 31363</td>\n",
       "      <td>leeholly@example.net</td>\n",
       "      <td>211.901.6318x3264</td>\n",
       "      <td>1960-02-07</td>\n",
       "      <td>2021-11-05</td>\n",
       "    </tr>\n",
       "    <tr>\n",
       "      <th>3</th>\n",
       "      <td>c347dc4a-7527-4215-88f2-7160589b2c12</td>\n",
       "      <td>Andrea Flynn</td>\n",
       "      <td>1398 Aaron Villages\\nWilliamside, IN 22059</td>\n",
       "      <td>jacksondonald@example.com</td>\n",
       "      <td>+1-701-611-3084x1910</td>\n",
       "      <td>1985-07-26</td>\n",
       "      <td>2024-01-22</td>\n",
       "    </tr>\n",
       "    <tr>\n",
       "      <th>4</th>\n",
       "      <td>65d5f9f1-698d-400f-a5b9-d5c93d93ffba</td>\n",
       "      <td>Anthony Edwards</td>\n",
       "      <td>8795 Wallace Island Apt. 796\\nTaylortown, OH 3...</td>\n",
       "      <td>kaitlynbailey@example.org</td>\n",
       "      <td>001-624-423-4670x4718</td>\n",
       "      <td>1993-11-26</td>\n",
       "      <td>2021-12-02</td>\n",
       "    </tr>\n",
       "  </tbody>\n",
       "</table>\n",
       "</div>"
      ],
      "text/plain": [
       "                                user_id             name  \\\n",
       "0  bad0f399-b936-417c-a238-56079f19b88d  Ashley Mcintosh   \n",
       "1  716fba64-a05b-4ebd-97f9-636cdbb44be0    Kathryn Scott   \n",
       "2  1deebb01-ff6f-44b7-9857-3681a2097bf0  Julia Hernandez   \n",
       "3  c347dc4a-7527-4215-88f2-7160589b2c12     Andrea Flynn   \n",
       "4  65d5f9f1-698d-400f-a5b9-d5c93d93ffba  Anthony Edwards   \n",
       "\n",
       "                                             address  \\\n",
       "0  623 Lisa Fields Suite 884\\nEast Jasonmouth, NV...   \n",
       "1  721 Lindsey Curve Suite 968\\nSouth Michael, GU...   \n",
       "2          178 Weaver Valley\\nCoreychester, IL 31363   \n",
       "3         1398 Aaron Villages\\nWilliamside, IN 22059   \n",
       "4  8795 Wallace Island Apt. 796\\nTaylortown, OH 3...   \n",
       "\n",
       "                       email            phone_number date_of_birth signup_date  \n",
       "0    elizabeth01@example.net       (889)984-8561x885    1997-08-29  2022-05-04  \n",
       "1      johndixon@example.org  001-585-930-5563x05110    1958-11-11  2022-03-18  \n",
       "2       leeholly@example.net       211.901.6318x3264    1960-02-07  2021-11-05  \n",
       "3  jacksondonald@example.com    +1-701-611-3084x1910    1985-07-26  2024-01-22  \n",
       "4  kaitlynbailey@example.org   001-624-423-4670x4718    1993-11-26  2021-12-02  "
      ]
     },
     "execution_count": 13,
     "metadata": {},
     "output_type": "execute_result"
    }
   ],
   "source": [
    "fake = Faker()\n",
    "\n",
    "# Generate a list of fake user profiles\n",
    "def generate_user_data(n):\n",
    "    users = []\n",
    "    for _ in range(n):\n",
    "        user = {\n",
    "            \"user_id\": fake.uuid4(),\n",
    "            \"name\": fake.name(),\n",
    "            \"address\": fake.address(),\n",
    "            \"email\": fake.email(),\n",
    "            \"phone_number\": fake.phone_number(),\n",
    "            \"date_of_birth\": fake.date_of_birth(minimum_age=18, maximum_age=70),\n",
    "            \"signup_date\": fake.date_this_decade()\n",
    "        }\n",
    "        users.append(user)\n",
    "    return pd.DataFrame(users)\n",
    "\n",
    "# Generate data for 100 users\n",
    "user_data = generate_user_data(100)\n",
    "user_data.head()\n"
   ]
  },
  {
   "cell_type": "code",
   "execution_count": 14,
   "id": "0b537b95",
   "metadata": {},
   "outputs": [
    {
     "data": {
      "text/html": [
       "<div>\n",
       "<style scoped>\n",
       "    .dataframe tbody tr th:only-of-type {\n",
       "        vertical-align: middle;\n",
       "    }\n",
       "\n",
       "    .dataframe tbody tr th {\n",
       "        vertical-align: top;\n",
       "    }\n",
       "\n",
       "    .dataframe thead th {\n",
       "        text-align: right;\n",
       "    }\n",
       "</style>\n",
       "<table border=\"1\" class=\"dataframe\">\n",
       "  <thead>\n",
       "    <tr style=\"text-align: right;\">\n",
       "      <th></th>\n",
       "      <th>order_id</th>\n",
       "      <th>user_id</th>\n",
       "      <th>product</th>\n",
       "      <th>price</th>\n",
       "      <th>order_date</th>\n",
       "    </tr>\n",
       "  </thead>\n",
       "  <tbody>\n",
       "    <tr>\n",
       "      <th>0</th>\n",
       "      <td>6371a810-5cf8-4346-9b66-beea663876ce</td>\n",
       "      <td>f2f48219-0041-4853-a44b-212952889d25</td>\n",
       "      <td>Tablet</td>\n",
       "      <td>1031</td>\n",
       "      <td>2023-05-29</td>\n",
       "    </tr>\n",
       "    <tr>\n",
       "      <th>1</th>\n",
       "      <td>1a12eb3f-b962-4246-8dc6-705e521844bc</td>\n",
       "      <td>2c50a478-6a2a-4282-9ffc-a4720ecaeeef</td>\n",
       "      <td>Camera</td>\n",
       "      <td>898</td>\n",
       "      <td>2023-02-21</td>\n",
       "    </tr>\n",
       "    <tr>\n",
       "      <th>2</th>\n",
       "      <td>b0b476b7-d5b4-4e02-8655-800134abbe40</td>\n",
       "      <td>c8333ff0-da77-452f-b14c-582d00fd5ea9</td>\n",
       "      <td>Camera</td>\n",
       "      <td>533</td>\n",
       "      <td>2024-07-04</td>\n",
       "    </tr>\n",
       "    <tr>\n",
       "      <th>3</th>\n",
       "      <td>50d64d2e-9047-43eb-9642-28d20522954e</td>\n",
       "      <td>74e4c524-b833-45fd-85fa-e4e63359fb0d</td>\n",
       "      <td>Tablet</td>\n",
       "      <td>719</td>\n",
       "      <td>2023-11-09</td>\n",
       "    </tr>\n",
       "    <tr>\n",
       "      <th>4</th>\n",
       "      <td>bb19a959-70fc-4384-9649-a21fa78146b5</td>\n",
       "      <td>06654b6a-ca99-4f5d-9e1a-cc4874704e9b</td>\n",
       "      <td>Headphones</td>\n",
       "      <td>567</td>\n",
       "      <td>2022-10-13</td>\n",
       "    </tr>\n",
       "  </tbody>\n",
       "</table>\n",
       "</div>"
      ],
      "text/plain": [
       "                               order_id                               user_id  \\\n",
       "0  6371a810-5cf8-4346-9b66-beea663876ce  f2f48219-0041-4853-a44b-212952889d25   \n",
       "1  1a12eb3f-b962-4246-8dc6-705e521844bc  2c50a478-6a2a-4282-9ffc-a4720ecaeeef   \n",
       "2  b0b476b7-d5b4-4e02-8655-800134abbe40  c8333ff0-da77-452f-b14c-582d00fd5ea9   \n",
       "3  50d64d2e-9047-43eb-9642-28d20522954e  74e4c524-b833-45fd-85fa-e4e63359fb0d   \n",
       "4  bb19a959-70fc-4384-9649-a21fa78146b5  06654b6a-ca99-4f5d-9e1a-cc4874704e9b   \n",
       "\n",
       "      product  price  order_date  \n",
       "0      Tablet   1031  2023-05-29  \n",
       "1      Camera    898  2023-02-21  \n",
       "2      Camera    533  2024-07-04  \n",
       "3      Tablet    719  2023-11-09  \n",
       "4  Headphones    567  2022-10-13  "
      ]
     },
     "execution_count": 14,
     "metadata": {},
     "output_type": "execute_result"
    }
   ],
   "source": [
    "def generate_order_data(n, users_df):\n",
    "    orders = []\n",
    "    for _ in range(n):\n",
    "        order = {\n",
    "            \"order_id\": fake.uuid4(),\n",
    "            \"user_id\": fake.random_element(users_df['user_id'].to_list()),\n",
    "            \"product\": fake.word(ext_word_list=['Laptop', 'Smartphone', 'Headphones', 'Tablet', 'Camera']),\n",
    "            \"price\": fake.random_int(min=100, max=1500),\n",
    "            \"order_date\": fake.date_between(start_date=\"-2y\", end_date=\"today\")\n",
    "        }\n",
    "        orders.append(order)\n",
    "    return pd.DataFrame(orders)\n",
    "\n",
    "# Generate data for 300 orders\n",
    "order_data = generate_order_data(300, user_data)\n",
    "order_data.head()\n"
   ]
  },
  {
   "cell_type": "code",
   "execution_count": 15,
   "id": "245ad24d",
   "metadata": {},
   "outputs": [
    {
     "data": {
      "image/png": "[encoded data removed]",
      "text/plain": [
       "<Figure size 640x480 with 1 Axes>"
      ]
     },
     "metadata": {},
     "output_type": "display_data"
    }
   ],
   "source": [
    "# Plot the distribution of orders by product type\n",
    "product_distribution = order_data['product'].value_counts()\n",
    "product_distribution.plot(kind='bar', title='Product Distribution')\n",
    "plt.xlabel('Product')\n",
    "plt.ylabel('Number of Orders')\n",
    "plt.show()\n"
   ]
  },
  {
   "cell_type": "code",
   "execution_count": 16,
   "id": "209d2318",
   "metadata": {},
   "outputs": [
    {
     "name": "stdout",
     "output_type": "stream",
     "text": [
      "product\n",
      "Camera        53896\n",
      "Laptop        49644\n",
      "Smartphone    48987\n",
      "Tablet        46974\n",
      "Headphones    44820\n",
      "Name: price, dtype: int64\n"
     ]
    },
    {
     "data": {
      "image/png": "[encoded data removed]",
      "text/plain": [
       "<Figure size 640x480 with 1 Axes>"
      ]
     },
     "metadata": {},
     "output_type": "display_data"
    }
   ],
   "source": [
    "# Calculate total sales per product\n",
    "total_sales = order_data.groupby('product')['price'].sum().sort_values(ascending=False)\n",
    "print(total_sales)\n",
    "\n",
    "# Visualize total sales\n",
    "total_sales.plot(kind='pie', title='Total Sales by Product', autopct='%1.1f%%')\n",
    "plt.ylabel('')\n",
    "plt.show()\n"
   ]
  },
  {
   "cell_type": "code",
   "execution_count": 17,
   "id": "6e751025",
   "metadata": {},
   "outputs": [],
   "source": [
    "# Save the user and order data to CSV files\n",
    "user_data.to_csv('fake_user_data.csv', index=False)\n",
    "order_data.to_csv('fake_order_data.csv', index=False)\n"
   ]
  },
  {
   "cell_type": "code",
   "execution_count": null,
   "id": "33af66b8",
   "metadata": {},
   "outputs": [],
   "source": []
  }
 ],
 "metadata": {
  "kernelspec": {
   "display_name": "Python 3 (ipykernel)",
   "language": "python",
   "name": "python3"
  },
  "language_info": {
   "codemirror_mode": {
    "name": "ipython",
    "version": 3
   },
   "file_extension": ".py",
   "mimetype": "text/x-python",
   "name": "python",
   "nbconvert_exporter": "python",
   "pygments_lexer": "ipython3",
   "version": "3.9.13"
  }
 },
 "nbformat": 4,
 "nbformat_minor": 5
}
